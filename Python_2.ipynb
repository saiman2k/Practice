{
 "cells": [
  {
   "cell_type": "code",
   "execution_count": 1,
   "metadata": {},
   "outputs": [
    {
     "name": "stdout",
     "output_type": "stream",
     "text": [
      "1.Rectangle\n",
      "2.Square\n",
      "3.Triangle\n"
     ]
    }
   ],
   "source": [
    "print(\"1.Rectangle\\n2.Square\\n3.Triangle\")"
   ]
  },
  {
   "cell_type": "code",
   "execution_count": 25,
   "metadata": {},
   "outputs": [
    {
     "name": "stdout",
     "output_type": "stream",
     "text": [
      "\n",
      "Enter your choice:\n",
      "3\n",
      "3\n",
      "\n",
      "Enter the base and height of triangle:\n",
      "5.5\n",
      "6.5\n",
      "Area: 17.875\n"
     ]
    }
   ],
   "source": [
    "print('\\nEnter your choice:')\n",
    "x = int(input())\n",
    "print(x)\n",
    "if x == 1:\n",
    "    print(\"\\nENter the length and breadth:\")\n",
    "    a=int(input())\n",
    "    b=int(input())\n",
    "    print(\"Area:\",a*b)\n",
    "elif x==2:\n",
    "    print(\"\\nENter the edge of the square:\")\n",
    "    a=int(input())\n",
    "    print(\"Area:\",a*a)\n",
    "else :\n",
    "    print(\"\\nEnter the base and height of triangle:\")\n",
    "    b=float(input())\n",
    "    h=float(input())\n",
    "    print(\"Area:\",((b*h)/2))\n"
   ]
  },
  {
   "cell_type": "code",
   "execution_count": 41,
   "metadata": {},
   "outputs": [
    {
     "name": "stdout",
     "output_type": "stream",
     "text": [
      "the maximum value is 78\n",
      "\n",
      "The sum of the numbers is: 288\n",
      "1\n",
      "19\n",
      "32\n",
      "4\n",
      "78\n",
      "56\n",
      "20\n"
     ]
    }
   ],
   "source": [
    "#loops\n",
    "#for loop\n",
    "#to find the max value \n",
    "num = [1,19,32,4,78,56,20]\n",
    "m = 1\n",
    "for i in num:\n",
    "    if i>m:\n",
    "        m=i\n",
    "    continue\n",
    "\n",
    "print(\"the maximum value is\",m)\n",
    "#to find the sum of the numbers\n",
    "for i in num:\n",
    "    m=m+i\n",
    "print(\"\\nThe sum of the numbers is:\",m)\n",
    "#using range in for loop\n",
    "for i in range(len(num)):\n",
    "    print(num[i])"
   ]
  },
  {
   "cell_type": "code",
   "execution_count": 43,
   "metadata": {},
   "outputs": [
    {
     "name": "stdout",
     "output_type": "stream",
     "text": [
      "Enter the number:\n",
      "5\n",
      "The factorial of number is: 120\n"
     ]
    }
   ],
   "source": [
    "#while loop to find the factorial\n",
    "print('Enter the number:')\n",
    "a=int(input())\n",
    "i=1\n",
    "m=1\n",
    "while i<=a:\n",
    "    m=m*i\n",
    "    i=i+1\n",
    "print('The factorial of number is:',m)"
   ]
  },
  {
   "cell_type": "code",
   "execution_count": 58,
   "metadata": {},
   "outputs": [
    {
     "name": "stdout",
     "output_type": "stream",
     "text": [
      "Enter a number:\n",
      "63\n",
      "matched\n",
      "Continue-Section\n",
      "13\n",
      "78\n",
      "63\n",
      "25\n",
      "87\n",
      "94\n",
      "Pass-Section\n",
      "13\n",
      "78\n",
      "45\n",
      "63\n",
      "25\n",
      "This is pass\n",
      "87\n",
      "94\n"
     ]
    }
   ],
   "source": [
    "#break and continue and pass\n",
    "l=[13,78,45,63,25,87,94]\n",
    "print('Enter a number:')\n",
    "b=int(input())\n",
    "c=1\n",
    "for i in l:\n",
    "    if i==b:\n",
    "        print('matched')\n",
    "        c=c+1\n",
    "        break\n",
    "print('Continue-Section')\n",
    "for i in l:\n",
    "    if i==45:\n",
    "        continue\n",
    "    print(i)\n",
    "print('Pass-Section')\n",
    "for i in l:\n",
    "    if i== 87:\n",
    "        print('This is pass')\n",
    "    print(i)\n",
    "          \n",
    "         \n",
    "    \n"
   ]
  },
  {
   "cell_type": "code",
   "execution_count": null,
   "metadata": {},
   "outputs": [],
   "source": []
  },
  {
   "cell_type": "code",
   "execution_count": null,
   "metadata": {},
   "outputs": [],
   "source": []
  }
 ],
 "metadata": {
  "kernelspec": {
   "display_name": "Python 3",
   "language": "python",
   "name": "python3"
  },
  "language_info": {
   "codemirror_mode": {
    "name": "ipython",
    "version": 3
   },
   "file_extension": ".py",
   "mimetype": "text/x-python",
   "name": "python",
   "nbconvert_exporter": "python",
   "pygments_lexer": "ipython3",
   "version": "3.8.3"
  }
 },
 "nbformat": 4,
 "nbformat_minor": 4
}
