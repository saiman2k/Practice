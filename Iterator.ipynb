{
 "cells": [
  {
   "cell_type": "code",
   "execution_count": 15,
   "metadata": {},
   "outputs": [
    {
     "name": "stdout",
     "output_type": "stream",
     "text": [
      "1\n",
      "2\n",
      "3\n",
      "4\n",
      "5\n",
      "sainadh\n",
      "13\n",
      "15\n"
     ]
    }
   ],
   "source": [
    "#Using a for loop to access elements in an iterator\n",
    "l1=[1,2,3,4,5]\n",
    "i=iter(l1)\n",
    "for n in l1:\n",
    "    print(next(i))\n",
    "#using while loop to use the iterator\n",
    "l2=['sainadh',13,15]\n",
    "i1=iter(l2)\n",
    "while True:\n",
    "    try:\n",
    "        a=next(i1)\n",
    "        print(a)\n",
    "    except StopIteration:\n",
    "        break\n",
    "\n",
    "\n"
   ]
  },
  {
   "cell_type": "code",
   "execution_count": 25,
   "metadata": {},
   "outputs": [
    {
     "name": "stdout",
     "output_type": "stream",
     "text": [
      "1\n",
      "2\n",
      "3\n",
      "4\n",
      "5\n",
      "6\n",
      "7\n",
      "8\n",
      "9\n",
      "10\n",
      "11\n",
      "12\n",
      "13\n",
      "14\n",
      "15\n",
      "16\n"
     ]
    }
   ],
   "source": [
    "#iterator within a class to print the required numbers\n",
    "class Test:\n",
    "    def __init__(self, limit):\n",
    "        self.limit = limit\n",
    "    def __iter__(self):\n",
    "        self.x = 1\n",
    "        return self\n",
    "    def __next__(self):\n",
    "        x=self.x\n",
    "        if x>self.limit:\n",
    "            raise StopIteration\n",
    "        self.x=x+1\n",
    "        return x\n",
    "for i in Test(16):\n",
    "    print(i)\n"
   ]
  },
  {
   "cell_type": "code",
   "execution_count": null,
   "metadata": {},
   "outputs": [],
   "source": []
  },
  {
   "cell_type": "code",
   "execution_count": null,
   "metadata": {},
   "outputs": [],
   "source": []
  }
 ],
 "metadata": {
  "kernelspec": {
   "display_name": "Python 3",
   "language": "python",
   "name": "python3"
  },
  "language_info": {
   "codemirror_mode": {
    "name": "ipython",
    "version": 3
   },
   "file_extension": ".py",
   "mimetype": "text/x-python",
   "name": "python",
   "nbconvert_exporter": "python",
   "pygments_lexer": "ipython3",
   "version": "3.8.3"
  }
 },
 "nbformat": 4,
 "nbformat_minor": 4
}
