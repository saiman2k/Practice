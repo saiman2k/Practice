{
 "cells": [
  {
   "cell_type": "code",
   "execution_count": 15,
   "metadata": {},
   "outputs": [
    {
     "name": "stdout",
     "output_type": "stream",
     "text": [
      "My name is sainadh\n",
      "<class 'str'>\n",
      "this is first line\n",
      "second line\n",
      "third line\n",
      "fourth line and so on\n",
      " name is\n",
      "me is sainadh\n",
      "My nam\n",
      "negative\n",
      "is sainad\n",
      "My name is sainadhMy name is sainadh\n",
      "My name is sainadhMy name is sainadhMy name is sainadhMy name is sainadh\n"
     ]
    }
   ],
   "source": [
    "#STRINGS\n",
    "#single line\n",
    "str1 = 'My name is sainadh'\n",
    "print(str)\n",
    "print(type(str))\n",
    "#multiple line\n",
    "str2 = '''this is first line\n",
    "second line\n",
    "third line\n",
    "fourth line and so on'''  \n",
    " \n",
    "print(str2)\n",
    "#index slicing\n",
    "print(str1[2:10])\n",
    "print(str1[5:])\n",
    "print(str1[:6])\n",
    "#negative indexing\n",
    "print('negative')\n",
    "print(str1[-10:-1])\n",
    "#concatenation and replication\n",
    "print(str1+str1)\n",
    "print(str1*4)"
   ]
  },
  {
   "cell_type": "code",
   "execution_count": 36,
   "metadata": {},
   "outputs": [
    {
     "name": "stdout",
     "output_type": "stream",
     "text": [
      "\n",
      "My details:\n",
      "\n",
      "Name: sainadh\n",
      "\n",
      "Id: 13\n",
      "\n",
      "Age: 20\n",
      "\n",
      "Department: IT\n",
      "['sainadh', 20, 'IT']\n",
      "[6013, 'sainadh', 20, 'IT']\n",
      "[6013, 'akula', 25, 'IT']\n",
      "sum is: 0\n",
      "3\n",
      "give  3 inputs:\n",
      "Akula sainadh\n",
      "13\n",
      "20\n",
      "The created list is:\n",
      "Akula sainadh\n",
      "13\n",
      "20\n",
      "['13', '20']\n"
     ]
    }
   ],
   "source": [
    "#LISTS\n",
    "l=[13,'sainadh',20,'IT']\n",
    "print('\\nMy details:')\n",
    "print('\\nName:',l[1])\n",
    "print('\\nId:',l[0])\n",
    "print('\\nAge:',l[2])\n",
    "print('\\nDepartment:',l[3])\n",
    "#index slicing\n",
    "print(l[1:4])\n",
    "#updating lists\n",
    "#single element\n",
    "l[0]=6013\n",
    "print(l)\n",
    "#multiple element\n",
    "l[1:3]=['akula',25]\n",
    "print(l)\n",
    "#iterating list\n",
    "s=0\n",
    "for i in l:\n",
    "    if type(i)=='int':\n",
    "        s=s+i\n",
    "print('sum is:',s)\n",
    "#Inserting elements in the list usinf for loop\n",
    "l1=[]\n",
    "n=int(input())\n",
    "print('give ',n, 'inputs:')\n",
    "for i in range(0,n):\n",
    "    l1.append(input())\n",
    "print('The created list is:')\n",
    "for i in range(0,n):\n",
    "    print(l1[i])\n",
    "#Removing a element\n",
    "l1.remove('Akula sainadh')\n",
    "print(l1)\n",
    "\n"
   ]
  },
  {
   "cell_type": "code",
   "execution_count": 50,
   "metadata": {},
   "outputs": [
    {
     "name": "stdout",
     "output_type": "stream",
     "text": [
      "(1, 2, 3)\n",
      "tuple[0]= 1\n",
      "tuple[1]= 2\n",
      "tuple[2]= 3\n",
      "123456sainadh\n",
      "('1', '2', '3', '4', '5', '6', 's', 'a', 'i', 'n', 'a', 'd', 'h')\n",
      "tuple[0]=1\n",
      "tuple[1]=2\n",
      "tuple[2]=3\n",
      "tuple[3]=4\n",
      "tuple[4]=5\n",
      "tuple[5]=6\n",
      "tuple[6]=s\n",
      "tuple[7]=a\n",
      "tuple[8]=i\n",
      "tuple[9]=n\n",
      "tuple[10]=a\n",
      "tuple[11]=d\n",
      "tuple[12]=h\n",
      "('3', '4')\n"
     ]
    }
   ],
   "source": [
    "#Tuple\n",
    "t =(1,2,3)\n",
    "print(t)\n",
    "c=0\n",
    "for i in t:\n",
    "    print(\"tuple[%d]= %d\"%(c,i))\n",
    "    c=c+1\n",
    "#taking elements as input\n",
    "t1=tuple(input())\n",
    "print(t1)\n",
    "c=0\n",
    "for i in t1:\n",
    "    print(\"tuple[%d]=%s\"%(c,i))\n",
    "    c=c+1\n",
    "#tuple indexing\n",
    "print(t1[2:4])\n"
   ]
  },
  {
   "cell_type": "code",
   "execution_count": 59,
   "metadata": {},
   "outputs": [
    {
     "name": "stdout",
     "output_type": "stream",
     "text": [
      "<class 'set'>\n",
      "{'aprl', 'feb', 'jan', 'march'}\n",
      "aprl\n",
      "feb\n",
      "jan\n",
      "march\n",
      "{'feb', 'jan', 'may', 'aprl', 'march'}\n",
      "{'feb', 'jan', 'june', 'may', 'july', 'aprl', 'march'}\n",
      "{'june', 'may', 'july', 'aprl', 'march'}\n",
      "Union:\n",
      "{1, 2, 3, 4, 5, 6, 7, 8, 9}\n",
      "Intersection:\n",
      "{4, 5, 6}\n",
      "difference between m1 and m2:\n",
      "{1, 2, 3}\n"
     ]
    }
   ],
   "source": [
    "#SETS\n",
    "m={\"jan\",\"feb\",\"march\",\"aprl\"}\n",
    "print(type(m))\n",
    "print(m)\n",
    "#printing using loops\n",
    "for i in m:\n",
    "    print(i)\n",
    "#using add method\n",
    "m.add(\"may\")\n",
    "print(m)\n",
    "#using update function\n",
    "m.update([\"june\",\"july\"])\n",
    "print(m)\n",
    "#using remove and discard\n",
    "m.discard(\"jan\")\n",
    "m.remove(\"feb\")\n",
    "print(m)\n",
    "m1={1,2,3,4,5,6}\n",
    "m2={4,5,6,7,8,9}\n",
    "#Union,Intersection and Difference\n",
    "print(\"Union:\")\n",
    "print(m1|m2)\n",
    "print('Intersection:')\n",
    "print(m1&m2)\n",
    "print('difference between m1 and m2:')\n",
    "print(m1-m2)"
   ]
  },
  {
   "cell_type": "code",
   "execution_count": 72,
   "metadata": {},
   "outputs": [
    {
     "name": "stdout",
     "output_type": "stream",
     "text": [
      "{'Name': 'sainadh', 'Age': '20', 'Id': '13'}\n",
      "{1: 'Akula', 2: 'SAinadh', 3: '13'}\n",
      "first_Name: sainadh\n",
      "Age: 20\n",
      "Id: 13\n",
      "{'Name': 'sainadh', 'Age': '20', 'Id': '13', 1: '25'}\n",
      "{'Name': 'sainadh', 'Age': '20', 'Id': '13'}\n",
      "Name\n",
      "sainadh\n",
      "Age\n",
      "20\n",
      "Id\n",
      "13\n"
     ]
    }
   ],
   "source": [
    "#dictionaries\n",
    "d={\"Name\":\"sainadh\",\"Age\":\"20\",\"Id\":\"13\"}\n",
    "#creating with dict() keyword\n",
    "d1=dict({1:\"Akula\",2:\"SAinadh\",3:\"13\"})\n",
    "print(d)\n",
    "print(d1)\n",
    "#accessing the values of the dictionary\n",
    "print(\"first_Name: %s\"% d[\"Name\"])\n",
    "print(\"Age: %s\"% d[\"Age\"])\n",
    "print(\"Id: %s\"% d[\"Id\"])\n",
    "#adding elements to the dictionary\n",
    "d[1]=\"25\"\n",
    "print(d)\n",
    "#deleting elements\n",
    "del d[1]\n",
    "print(d)\n",
    "for i in d:\n",
    "    print(i)\n",
    "    print(d[i])\n"
   ]
  },
  {
   "cell_type": "code",
   "execution_count": null,
   "metadata": {},
   "outputs": [],
   "source": []
  }
 ],
 "metadata": {
  "kernelspec": {
   "display_name": "Python 3",
   "language": "python",
   "name": "python3"
  },
  "language_info": {
   "codemirror_mode": {
    "name": "ipython",
    "version": 3
   },
   "file_extension": ".py",
   "mimetype": "text/x-python",
   "name": "python",
   "nbconvert_exporter": "python",
   "pygments_lexer": "ipython3",
   "version": "3.8.3"
  }
 },
 "nbformat": 4,
 "nbformat_minor": 4
}
