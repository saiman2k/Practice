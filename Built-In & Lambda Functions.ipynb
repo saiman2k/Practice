{
 "cells": [
  {
   "cell_type": "code",
   "execution_count": 8,
   "metadata": {},
   "outputs": [
    {
     "name": "stdout",
     "output_type": "stream",
     "text": [
      "Enter any interger:\n",
      "-158\n",
      "Absolute value: 158\n"
     ]
    }
   ],
   "source": [
    "#absolute value\n",
    "print('Enter any interger:')\n",
    "a=int(input())\n",
    "if a>=0:\n",
    "    print('Absolute value:',a)\n",
    "else:\n",
    "    print('Absolute value:',abs(a))"
   ]
  },
  {
   "cell_type": "code",
   "execution_count": 9,
   "metadata": {},
   "outputs": [
    {
     "name": "stdout",
     "output_type": "stream",
     "text": [
      "False\n",
      "True\n"
     ]
    }
   ],
   "source": [
    "#all() function\n",
    "a=[1,2,3,4,False]\n",
    "b=[2,5,8,12]\n",
    "print(all(a))\n",
    "print(all(b))"
   ]
  },
  {
   "cell_type": "code",
   "execution_count": 10,
   "metadata": {},
   "outputs": [
    {
     "name": "stdout",
     "output_type": "stream",
     "text": [
      "Enter the number to convert into binary:\n",
      "10\n",
      "0b1010\n"
     ]
    }
   ],
   "source": [
    "#bin() function\n",
    "print('Enter the number to convert into binary:')\n",
    "a=int(input())\n",
    "print(bin(a))"
   ]
  },
  {
   "cell_type": "code",
   "execution_count": 12,
   "metadata": {},
   "outputs": [
    {
     "name": "stdout",
     "output_type": "stream",
     "text": [
      "[] is False\n",
      "[1, 2, 3, 4, 5] is True\n"
     ]
    }
   ],
   "source": [
    "#bool()\n",
    "l=[]\n",
    "print(l,'is',bool(l))\n",
    "l=[1,2,3,4,5]\n",
    "print(l,'is',bool(l))"
   ]
  },
  {
   "cell_type": "code",
   "execution_count": 17,
   "metadata": {},
   "outputs": [
    {
     "name": "stdout",
     "output_type": "stream",
     "text": [
      "False\n",
      "myname is sainadh\n",
      "False\n"
     ]
    }
   ],
   "source": [
    "#callable()\n",
    "a=1.5\n",
    "def ab():\n",
    "    print('myname is sainadh')\n",
    "\n",
    "print(callable(a))\n",
    "print(callable(ab()))\n"
   ]
  },
  {
   "cell_type": "code",
   "execution_count": 18,
   "metadata": {},
   "outputs": [
    {
     "name": "stdout",
     "output_type": "stream",
     "text": [
      "21\n"
     ]
    }
   ],
   "source": [
    "#sum\n",
    "l=[1,2,3,4,5,6]\n",
    "a=sum(l)\n",
    "print(a)"
   ]
  },
  {
   "cell_type": "code",
   "execution_count": 19,
   "metadata": {},
   "outputs": [
    {
     "name": "stdout",
     "output_type": "stream",
     "text": [
      "9\n"
     ]
    }
   ],
   "source": [
    "#eval()\n",
    "a=8\n",
    "print(eval('a+1'))"
   ]
  },
  {
   "cell_type": "code",
   "execution_count": 21,
   "metadata": {},
   "outputs": [
    {
     "name": "stdout",
     "output_type": "stream",
     "text": [
      "To chaeck whether the given number is even or odd\n",
      "The modulo is: 0\n"
     ]
    }
   ],
   "source": [
    "#lambda fuction\n",
    "print('To chaeck whether the given number is even or odd')\n",
    "x= lambda a:a%2\n",
    "print('The modulo is:',x(4))"
   ]
  },
  {
   "cell_type": "code",
   "execution_count": null,
   "metadata": {},
   "outputs": [],
   "source": []
  }
 ],
 "metadata": {
  "kernelspec": {
   "display_name": "Python 3",
   "language": "python",
   "name": "python3"
  }
 },
 "nbformat": 4,
 "nbformat_minor": 4
}
