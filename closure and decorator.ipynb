{
 "cells": [
  {
   "cell_type": "code",
   "execution_count": 30,
   "metadata": {},
   "outputs": [
    {
     "name": "stdout",
     "output_type": "stream",
     "text": [
      "9\n",
      "300.0\n"
     ]
    }
   ],
   "source": [
    "#closure(nested fuctions)\n",
    "def area(a):\n",
    "    def square():\n",
    "        print(a*a)\n",
    "    return square\n",
    "ar=area(3)\n",
    "ar()\n",
    "#to find the simple interest\n",
    "def simple(p,t,r):\n",
    "    def inte():\n",
    "        print((p*t*r)/100)\n",
    "    return inte\n",
    "si=simple(10000,2,1.5)\n",
    "si()\n",
    "\n",
    "\n",
    "        "
   ]
  },
  {
   "cell_type": "code",
   "execution_count": 42,
   "metadata": {},
   "outputs": [
    {
     "name": "stdout",
     "output_type": "stream",
     "text": [
      "Innerfuntion call\n",
      "inbetween\n",
      "Last function call\n"
     ]
    }
   ],
   "source": [
    "#decorator\n",
    "def dec(b):\n",
    "    def inner():\n",
    "        print('Innerfuntion call')\n",
    "        b()\n",
    "        print('Last function call')\n",
    "    return inner\n",
    "def fun():\n",
    "    print('inbetween')\n",
    "fun=dec(fun)\n",
    "fun()"
   ]
  },
  {
   "cell_type": "code",
   "execution_count": 43,
   "metadata": {},
   "outputs": [
    {
     "name": "stdout",
     "output_type": "stream",
     "text": [
      "this is the main class\n",
      "this is the intermediate class\n",
      "this the intermediate class\n"
     ]
    }
   ],
   "source": [
    "def main():\n",
    "    print(\"this is the main class\")\n",
    "    def fclas():\n",
    "        print('this the intermediate class')\n",
    "    def sclas():\n",
    "        print('this is the intermediate class')\n",
    "    sclas()\n",
    "    fclas()\n",
    "main()"
   ]
  },
  {
   "cell_type": "code",
   "execution_count": null,
   "metadata": {},
   "outputs": [],
   "source": []
  }
 ],
 "metadata": {
  "kernelspec": {
   "display_name": "Python 3",
   "language": "python",
   "name": "python3"
  },
  "language_info": {
   "codemirror_mode": {
    "name": "ipython",
    "version": 3
   },
   "file_extension": ".py",
   "mimetype": "text/x-python",
   "name": "python",
   "nbconvert_exporter": "python",
   "pygments_lexer": "ipython3",
   "version": "3.8.3"
  }
 },
 "nbformat": 4,
 "nbformat_minor": 4
}
