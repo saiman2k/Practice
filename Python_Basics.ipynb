{
 "cells": [
  {
   "cell_type": "code",
   "execution_count": 4,
   "metadata": {},
   "outputs": [
    {
     "name": "stdout",
     "output_type": "stream",
     "text": [
      "sainadh\n",
      "<class 'str'>\n",
      "1\n",
      "sai\n"
     ]
    }
   ],
   "source": [
    "#Declaring Variables\n",
    "a=\"sainadh\"\n",
    "print(a)\n",
    "print(type(a))\n",
    "\n",
    "#Multiple inputs\n",
    "a,b = 1,\"sai\"\n",
    "print(a)\n",
    "print(b)\n"
   ]
  },
  {
   "cell_type": "code",
   "execution_count": 7,
   "metadata": {},
   "outputs": [
    {
     "name": "stdout",
     "output_type": "stream",
     "text": [
      "a is: <class 'int'>\n",
      "b is: <class 'float'>\n",
      "c is: <class 'complex'>\n",
      "a is an integer: True\n"
     ]
    }
   ],
   "source": [
    "#Data types\n",
    "a,b,c = 1,1.5,1+2j\n",
    "print(\"a is:\",type(a))\n",
    "print(\"b is:\",type(b))\n",
    "print(\"c is:\",type(c))\n",
    "print(\"a is an integer:\",isinstance(a,int))"
   ]
  },
  {
   "cell_type": "code",
   "execution_count": 11,
   "metadata": {},
   "outputs": [
    {
     "name": "stdout",
     "output_type": "stream",
     "text": [
      "This is my first jupyter notebooks program\n",
      "'' In this section I am going to \n",
      "write the string in a two lines.\n",
      "This is m\n",
      "This is my first jupyter notebooks program'' In this section I am going to \n",
      "write the string in a two lines.\n"
     ]
    }
   ],
   "source": [
    "#String\n",
    "a=\"This is my first jupyter notebooks program\"\n",
    "print(a)\n",
    "#multiline string\n",
    "b=''''' In this section I am going to \n",
    "write the string in a two lines.'''\n",
    "print(b)\n",
    "print(a[0:9])\n",
    "print(a+b)"
   ]
  },
  {
   "cell_type": "code",
   "execution_count": 16,
   "metadata": {},
   "outputs": [
    {
     "name": "stdout",
     "output_type": "stream",
     "text": [
      "<class 'str'>\n",
      "[1, 2, 3, 'python', 'ml', 1, 2, 3, 'python', 'ml', 1, 2, 3, 'python', 'ml', 1, 2, 3, 'python', 'ml', 1, 2, 3, 'python', 'ml']\n",
      "[1, 2, 3, 'python', 'ml']\n",
      "[2, 3, 'python', 'ml']\n"
     ]
    }
   ],
   "source": [
    "#lists\n",
    "list1 = [1,2,3,\"python\",\"ml\"]\n",
    "print(type(list1[3]))\n",
    "print(list1 * 5)\n",
    "print(list1)\n",
    "print(list1[1:])"
   ]
  },
  {
   "cell_type": "code",
   "execution_count": 18,
   "metadata": {},
   "outputs": [
    {
     "name": "stdout",
     "output_type": "stream",
     "text": [
      "<class 'tuple'>\n",
      "(1, 2, 'python', 'ml')\n",
      "('python', 'ml')\n",
      "(1, 2, 'python', 'ml', 1, 2, 'python', 'ml')\n",
      "(1, 2, 'python', 'ml', 1, 2, 'python', 'ml')\n"
     ]
    }
   ],
   "source": [
    "#Tuple\n",
    "tpl = (1,2,\"python\",\"ml\")\n",
    "print(type(tpl))\n",
    "print(tpl)\n",
    "print(tpl[2:])\n",
    "print(tpl*2)\n",
    "print(tpl+tpl)"
   ]
  },
  {
   "cell_type": "code",
   "execution_count": 24,
   "metadata": {},
   "outputs": [
    {
     "name": "stdout",
     "output_type": "stream",
     "text": [
      "{1: 'Sainadh', 2: 'Akula', 3: 'saiman2k'}\n",
      "First name is: Sainadh\n",
      "dict_keys([1, 2, 3])\n",
      "dict_values(['Sainadh', 'Akula', 'saiman2k'])\n"
     ]
    }
   ],
   "source": [
    "#Dictionary\n",
    "d={1:'Sainadh',2:'Akula',3:'saiman2k'}\n",
    "print(d)\n",
    "print(\"First name is:\",d[1])\n",
    "print(d.keys())\n",
    "print(d.values())"
   ]
  },
  {
   "cell_type": "code",
   "execution_count": 25,
   "metadata": {},
   "outputs": [
    {
     "name": "stdout",
     "output_type": "stream",
     "text": [
      "True\n"
     ]
    }
   ],
   "source": [
    "#boolean\n",
    "a=True\n",
    "b=False\n",
    "if 4 % 2==0:\n",
    "    print(a)\n",
    "else :\n",
    "    print(b)\n",
    "    "
   ]
  },
  {
   "cell_type": "code",
   "execution_count": 28,
   "metadata": {},
   "outputs": [
    {
     "name": "stdout",
     "output_type": "stream",
     "text": [
      "{1, 2, 'Akula', 'sainadh'}\n",
      "{1, 2, 'sainadh', 'saiman2k', 'Akula'}\n",
      "{1, 'sainadh', 'saiman2k', 'Akula'}\n"
     ]
    }
   ],
   "source": [
    "#SET\n",
    "#Creating an empty set\n",
    "set0 =set()\n",
    "set1 = {'sainadh',1,2,'Akula'}\n",
    "print(set1)\n",
    "set1.add('saiman2k')\n",
    "print(set1)\n",
    "set1.remove(2)\n",
    "print(set1)"
   ]
  },
  {
   "cell_type": "code",
   "execution_count": null,
   "metadata": {},
   "outputs": [],
   "source": []
  }
 ],
 "metadata": {
  "kernelspec": {
   "display_name": "Python 3",
   "language": "python",
   "name": "python3"
  },
  "language_info": {
   "codemirror_mode": {
    "name": "ipython",
    "version": 3
   },
   "file_extension": ".py",
   "mimetype": "text/x-python",
   "name": "python",
   "nbconvert_exporter": "python",
   "pygments_lexer": "ipython3",
   "version": "3.8.3"
  }
 },
 "nbformat": 4,
 "nbformat_minor": 4
}
