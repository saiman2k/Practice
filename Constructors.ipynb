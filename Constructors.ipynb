{
 "cells": [
  {
   "cell_type": "code",
   "execution_count": 6,
   "metadata": {},
   "outputs": [
    {
     "name": "stdout",
     "output_type": "stream",
     "text": [
      "Enter the length and breadth of the rectangle:\n",
      "2\n",
      "3\n",
      "Area: 6\n"
     ]
    }
   ],
   "source": [
    "#classes\n",
    "class area:\n",
    "    def ar(self):\n",
    "        print('Enter the length and breadth of the rectangle:')\n",
    "        l=int(input())\n",
    "        b=int(input())\n",
    "        print('Area:',l*b)\n",
    "a=area()\n",
    "a.ar()\n"
   ]
  },
  {
   "cell_type": "code",
   "execution_count": 7,
   "metadata": {},
   "outputs": [
    {
     "name": "stdout",
     "output_type": "stream",
     "text": [
      "The given values are:\n",
      "10500\n",
      "3.5\n",
      "0.99\n",
      "The simple interest is:\n",
      "363.825\n"
     ]
    }
   ],
   "source": [
    "#declaring variables in the class \n",
    "class si:\n",
    "    p=10500\n",
    "    t=3.5\n",
    "    r=0.99\n",
    "    def st(self):\n",
    "        print('The given values are:')\n",
    "        print(self.p)\n",
    "        print(self.t)\n",
    "        print(self.r)\n",
    "        print('The simple interest is:')\n",
    "        print((self.p*self.t*self.r)/100)\n",
    "a=si()\n",
    "a.st()"
   ]
  },
  {
   "cell_type": "code",
   "execution_count": 10,
   "metadata": {},
   "outputs": [
    {
     "name": "stdout",
     "output_type": "stream",
     "text": [
      "The given weigth is: 95\n",
      "the given heigth is: 171\n",
      "BMI: 2.2839506172839505\n"
     ]
    }
   ],
   "source": [
    "#creating a class with a constructor\n",
    "class bmi:\n",
    "    def __init__(self,w,h):\n",
    "        self.w=w\n",
    "        self.h=h\n",
    "    def disp(self):\n",
    "        print('The given weigth is:',self.w)\n",
    "        print('the given heigth is:',self.h)\n",
    "        c=((self.w*703)/(self.h*self.h))\n",
    "        print('BMI:',c)\n",
    "a=bmi(95,171)\n",
    "a.disp()"
   ]
  },
  {
   "cell_type": "code",
   "execution_count": 12,
   "metadata": {},
   "outputs": [
    {
     "name": "stdout",
     "output_type": "stream",
     "text": [
      "This is second constructor\n"
     ]
    }
   ],
   "source": [
    "#creating more than one constructor in a class\n",
    "class con:\n",
    "    def __init__(self):\n",
    "        print('This is the first constructor')\n",
    "    def __init__(self):\n",
    "        print('This is second constructor')\n",
    "a=con()"
   ]
  },
  {
   "cell_type": "code",
   "execution_count": null,
   "metadata": {},
   "outputs": [],
   "source": []
  }
 ],
 "metadata": {
  "kernelspec": {
   "display_name": "Python 3",
   "language": "python",
   "name": "python3"
  },
  "language_info": {
   "codemirror_mode": {
    "name": "ipython",
    "version": 3
   },
   "file_extension": ".py",
   "mimetype": "text/x-python",
   "name": "python",
   "nbconvert_exporter": "python",
   "pygments_lexer": "ipython3",
   "version": "3.8.3"
  }
 },
 "nbformat": 4,
 "nbformat_minor": 4
}
